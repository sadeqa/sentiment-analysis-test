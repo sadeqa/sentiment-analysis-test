{
 "cells": [
  {
   "cell_type": "markdown",
   "id": "e0375572-94f9-4267-b79e-7d36b12549cd",
   "metadata": {
    "tags": []
   },
   "source": [
    "## Evaluation with pretrained model"
   ]
  },
  {
   "cell_type": "code",
   "execution_count": 1,
   "id": "fbe24606-f228-403b-a29f-5bf60100b19c",
   "metadata": {},
   "outputs": [],
   "source": [
    "from transformers import AutoModelForSequenceClassification, AutoTokenizer\n",
    "import pandas as pd \n",
    "import torch\n",
    "from langdetect import detect, LangDetectException\n",
    "from tqdm import tqdm\n",
    "import numpy as np\n",
    "\n",
    "def detect_language(s):\n",
    "    try:\n",
    "        return detect(s)\n",
    "    except LangDetectException:\n",
    "        return \"unknown\"\n",
    "\n",
    "model = AutoModelForSequenceClassification.from_pretrained(\"cardiffnlp/twitter-xlm-roberta-base-sentiment\")\n",
    "use_gpu = torch.cuda.is_available()\n",
    "if use_gpu:\n",
    "    model.to(\"cuda\")\n",
    "tokenizer = AutoTokenizer.from_pretrained(\"cardiffnlp/twitter-xlm-roberta-base-sentiment\")"
   ]
  },
  {
   "cell_type": "code",
   "execution_count": 2,
   "id": "2814ac10-7d9c-407b-bda4-c0f2f807ee10",
   "metadata": {},
   "outputs": [],
   "source": [
    "test = pd.read_csv(\"./sentiment-analysis-test/data/val_clean.csv\")\n",
    "test['lang'] = test['content'].apply(lambda x: detect_language(x))"
   ]
  },
  {
   "cell_type": "code",
   "execution_count": 5,
   "id": "ead2170d-89e7-4575-8866-8f2055f87b00",
   "metadata": {},
   "outputs": [
    {
     "name": "stderr",
     "output_type": "stream",
     "text": [
      "100%|██████████████████████████████████████████████████████████████████████████████████████████████████████████████████████████████████████████████████████████████████████████| 5000/5000 [02:06<00:00, 39.39it/s]\n"
     ]
    }
   ],
   "source": [
    "predictions = []\n",
    "for item in tqdm(test.values):\n",
    "    tokenized = tokenizer(item[0], return_tensors='pt',\n",
    "            max_length=256,\n",
    "            padding=\"max_length\",\n",
    "            truncation=True)\n",
    "    if use_gpu:\n",
    "        tokenized = tokenized.to(\"cuda\")\n",
    "    with torch.no_grad():\n",
    "        out = model(**tokenized)\n",
    "    predictions.append(np.argmax(out.logits.detach().cpu().numpy()))"
   ]
  },
  {
   "cell_type": "code",
   "execution_count": 4,
   "id": "9aa3c10b-e610-4327-b8d7-e746120134f7",
   "metadata": {},
   "outputs": [],
   "source": [
    "LABEL_TO_ID = {\"negative\": 0, \"neutral\": 1, \"positive\": 2}\n",
    "true_labels = [LABEL_TO_ID[item] for item in test['sentiment'].tolist()]"
   ]
  },
  {
   "cell_type": "code",
   "execution_count": 19,
   "id": "26ed4a97-7cc5-4ab4-b90d-6c70c5dfafc8",
   "metadata": {
    "tags": []
   },
   "outputs": [],
   "source": [
    "#import pickle \n",
    "#with open('preds.pkl', 'wb') as f:\n",
    "#    pickle.dump(predictions, f)"
   ]
  },
  {
   "cell_type": "code",
   "execution_count": 20,
   "id": "77bc2a3a-bacb-4b16-9242-18a6cf011ee5",
   "metadata": {
    "tags": []
   },
   "outputs": [],
   "source": [
    "#import pickle \n",
    "#with open('preds.pkl', 'rb') as f:\n",
    "#    predictions = pickle.load(f)\n",
    "#import pandas as pd \n",
    "#from langdetect import detect, LangDetectException\n",
    "#def detect_language(s):\n",
    "#    try:\n",
    "#        return detect(s)\n",
    "#    except LangDetectException:\n",
    "#        return \"unknown\"\n",
    "#test = pd.read_csv(\"./sentiment-analysis-test/data/val_clean.csv\")\n",
    "#test['lang'] = test['content'].apply(lambda x: detect_language(x))\n",
    "#LABEL_TO_ID = {\"negative\": 0, \"neutral\": 1, \"positive\": 2}\n",
    "#true_labels = [LABEL_TO_ID[item] for item in test['sentiment'].tolist()]"
   ]
  },
  {
   "cell_type": "code",
   "execution_count": 5,
   "id": "9f89988c-191f-49f7-8226-459f5f914f79",
   "metadata": {},
   "outputs": [
    {
     "name": "stdout",
     "output_type": "stream",
     "text": [
      "Accuracy: 0.6486\n",
      "Accucary for negative: 0.7211966900063653\n",
      "Accucary for neutral: 0.5478753541076488\n",
      "Accucary for positive: 0.6868990384615384\n"
     ]
    }
   ],
   "source": [
    "from sklearn.metrics import confusion_matrix, accuracy_score\n",
    "print(f'Accuracy: {accuracy_score(true_labels, predictions)}')\n",
    "matrix = confusion_matrix(true_labels, predictions)\n",
    "acc_classes = matrix.diagonal()/matrix.sum(axis=1)\n",
    "for i in range(len(acc_classes)):\n",
    "    print(f\"Accucary for {list(LABEL_TO_ID.keys())[i]}: {acc_classes[i]}\")"
   ]
  },
  {
   "cell_type": "code",
   "execution_count": 6,
   "id": "e6998a86-82ba-4178-9a8a-cf64ee4e372f",
   "metadata": {},
   "outputs": [
    {
     "name": "stderr",
     "output_type": "stream",
     "text": [
      "5000it [00:00, 572398.06it/s]\n"
     ]
    }
   ],
   "source": [
    "data_lang_dic = {}\n",
    "from tqdm import tqdm\n",
    "for i, item in tqdm(enumerate(test.values)):\n",
    "    if item[2] not in data_lang_dic.keys():\n",
    "        data_lang_dic[item[2]] = []\n",
    "    data_lang_dic[item[2]].append([item[0], item[1], predictions[i]])"
   ]
  },
  {
   "cell_type": "code",
   "execution_count": 7,
   "id": "104b16e4-c492-41b9-9a05-2e4fcd170bea",
   "metadata": {
    "tags": []
   },
   "outputs": [
    {
     "name": "stderr",
     "output_type": "stream",
     "text": [
      "/tmp/ipykernel_159440/2994966975.py:9: RuntimeWarning: invalid value encountered in true_divide\n",
      "  table_lang.append([k, accuracy_score(true_lab, pred_lab), matrix.diagonal()/matrix.sum(axis=1), len(v)])\n",
      "/tmp/ipykernel_159440/2994966975.py:9: RuntimeWarning: invalid value encountered in true_divide\n",
      "  table_lang.append([k, accuracy_score(true_lab, pred_lab), matrix.diagonal()/matrix.sum(axis=1), len(v)])\n",
      "/tmp/ipykernel_159440/2994966975.py:9: RuntimeWarning: invalid value encountered in true_divide\n",
      "  table_lang.append([k, accuracy_score(true_lab, pred_lab), matrix.diagonal()/matrix.sum(axis=1), len(v)])\n"
     ]
    }
   ],
   "source": [
    "table_lang = []\n",
    "for k,v in data_lang_dic.items():\n",
    "    true_lab = [LABEL_TO_ID[item[1]] for item in v]\n",
    "    pred_lab = [item[2] for item in v]\n",
    "    matrix = confusion_matrix(true_lab, pred_lab)\n",
    "    #print(f\"For the language {k}: Accuracy is: {accuracy_score(true_lab, pred_lab)}\")\n",
    "    #print(f\"Accuracy per class is : {matrix.diagonal()/matrix.sum(axis=1)}\")\n",
    "    #print('---------------------------------------------------')\n",
    "    table_lang.append([k, accuracy_score(true_lab, pred_lab), matrix.diagonal()/matrix.sum(axis=1), len(v)])"
   ]
  },
  {
   "cell_type": "code",
   "execution_count": 8,
   "id": "8845d022-4429-4d34-bc46-5e86e62b7ddb",
   "metadata": {},
   "outputs": [],
   "source": [
    "table_lang_sorted = sorted(table_lang, key=lambda k: -k[3])"
   ]
  },
  {
   "cell_type": "code",
   "execution_count": 9,
   "id": "72e225f0-cf1d-4bd8-8ad0-2b38bc17487b",
   "metadata": {},
   "outputs": [
    {
     "data": {
      "text/html": [
       "<div>\n",
       "<style scoped>\n",
       "    .dataframe tbody tr th:only-of-type {\n",
       "        vertical-align: middle;\n",
       "    }\n",
       "\n",
       "    .dataframe tbody tr th {\n",
       "        vertical-align: top;\n",
       "    }\n",
       "\n",
       "    .dataframe thead th {\n",
       "        text-align: right;\n",
       "    }\n",
       "</style>\n",
       "<table border=\"1\" class=\"dataframe\">\n",
       "  <thead>\n",
       "    <tr style=\"text-align: right;\">\n",
       "      <th></th>\n",
       "      <th>lang</th>\n",
       "      <th>accuracy</th>\n",
       "      <th>acc per class</th>\n",
       "      <th>size</th>\n",
       "    </tr>\n",
       "  </thead>\n",
       "  <tbody>\n",
       "    <tr>\n",
       "      <th>0</th>\n",
       "      <td>en</td>\n",
       "      <td>0.619448</td>\n",
       "      <td>[0.7003891050583657, 0.5249169435215947, 0.647...</td>\n",
       "      <td>833</td>\n",
       "    </tr>\n",
       "    <tr>\n",
       "      <th>1</th>\n",
       "      <td>ru</td>\n",
       "      <td>0.690076</td>\n",
       "      <td>[0.6842105263157895, 0.6724890829694323, 0.709...</td>\n",
       "      <td>655</td>\n",
       "    </tr>\n",
       "    <tr>\n",
       "      <th>2</th>\n",
       "      <td>id</td>\n",
       "      <td>0.677215</td>\n",
       "      <td>[0.8018433179723502, 0.5394736842105263, 0.700...</td>\n",
       "      <td>632</td>\n",
       "    </tr>\n",
       "    <tr>\n",
       "      <th>3</th>\n",
       "      <td>ar</td>\n",
       "      <td>0.561047</td>\n",
       "      <td>[0.6607142857142857, 0.4397163120567376, 0.626...</td>\n",
       "      <td>344</td>\n",
       "    </tr>\n",
       "    <tr>\n",
       "      <th>4</th>\n",
       "      <td>fr</td>\n",
       "      <td>0.692810</td>\n",
       "      <td>[0.8787878787878788, 0.40425531914893614, 0.76...</td>\n",
       "      <td>306</td>\n",
       "    </tr>\n",
       "    <tr>\n",
       "      <th>5</th>\n",
       "      <td>es</td>\n",
       "      <td>0.662963</td>\n",
       "      <td>[0.7209302325581395, 0.5, 0.75]</td>\n",
       "      <td>270</td>\n",
       "    </tr>\n",
       "    <tr>\n",
       "      <th>6</th>\n",
       "      <td>pt</td>\n",
       "      <td>0.729614</td>\n",
       "      <td>[0.7926829268292683, 0.5970149253731343, 0.773...</td>\n",
       "      <td>233</td>\n",
       "    </tr>\n",
       "    <tr>\n",
       "      <th>7</th>\n",
       "      <td>ko</td>\n",
       "      <td>0.665116</td>\n",
       "      <td>[0.8409090909090909, 0.5463917525773195, 0.716...</td>\n",
       "      <td>215</td>\n",
       "    </tr>\n",
       "    <tr>\n",
       "      <th>8</th>\n",
       "      <td>zh-cn</td>\n",
       "      <td>0.589189</td>\n",
       "      <td>[0.7647058823529411, 0.3333333333333333, 0.649...</td>\n",
       "      <td>185</td>\n",
       "    </tr>\n",
       "    <tr>\n",
       "      <th>9</th>\n",
       "      <td>ja</td>\n",
       "      <td>0.790123</td>\n",
       "      <td>[0.7777777777777778, 0.6458333333333334, 0.916...</td>\n",
       "      <td>162</td>\n",
       "    </tr>\n",
       "  </tbody>\n",
       "</table>\n",
       "</div>"
      ],
      "text/plain": [
       "    lang  accuracy                                      acc per class  size\n",
       "0     en  0.619448  [0.7003891050583657, 0.5249169435215947, 0.647...   833\n",
       "1     ru  0.690076  [0.6842105263157895, 0.6724890829694323, 0.709...   655\n",
       "2     id  0.677215  [0.8018433179723502, 0.5394736842105263, 0.700...   632\n",
       "3     ar  0.561047  [0.6607142857142857, 0.4397163120567376, 0.626...   344\n",
       "4     fr  0.692810  [0.8787878787878788, 0.40425531914893614, 0.76...   306\n",
       "5     es  0.662963                    [0.7209302325581395, 0.5, 0.75]   270\n",
       "6     pt  0.729614  [0.7926829268292683, 0.5970149253731343, 0.773...   233\n",
       "7     ko  0.665116  [0.8409090909090909, 0.5463917525773195, 0.716...   215\n",
       "8  zh-cn  0.589189  [0.7647058823529411, 0.3333333333333333, 0.649...   185\n",
       "9     ja  0.790123  [0.7777777777777778, 0.6458333333333334, 0.916...   162"
      ]
     },
     "execution_count": 9,
     "metadata": {},
     "output_type": "execute_result"
    }
   ],
   "source": [
    "lang_acc_df = pd.DataFrame(table_lang_sorted, columns= [\"lang\", \"accuracy\", \"acc per class\", \"size\"])\n",
    "lang_acc_df.head(10)"
   ]
  },
  {
   "cell_type": "code",
   "execution_count": null,
   "id": "00123121-a469-4353-b24b-c599fb8134a0",
   "metadata": {},
   "outputs": [],
   "source": [
    "lang_acc_df.to_csv(\"accuracy_per_language_pretrained.csv\", index=False)"
   ]
  }
 ],
 "metadata": {
  "kernelspec": {
   "display_name": "Python 3 (ipykernel)",
   "language": "python",
   "name": "python3"
  },
  "language_info": {
   "codemirror_mode": {
    "name": "ipython",
    "version": 3
   },
   "file_extension": ".py",
   "mimetype": "text/x-python",
   "name": "python",
   "nbconvert_exporter": "python",
   "pygments_lexer": "ipython3",
   "version": "3.8.12"
  }
 },
 "nbformat": 4,
 "nbformat_minor": 5
}
