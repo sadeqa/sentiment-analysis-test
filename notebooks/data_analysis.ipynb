{
 "cells": [
  {
   "cell_type": "markdown",
   "metadata": {},
   "source": [
    "## Data Analysis and Cleaning\n",
    "The goal of this notebook is to show the analysis of the data that was done."
   ]
  },
  {
   "cell_type": "code",
   "execution_count": 1,
   "metadata": {},
   "outputs": [],
   "source": [
    "# read the given data\n",
    "import pandas as pd \n",
    "\n",
    "train = pd.read_csv(\"./sentiment-analysis-test/data/train.csv\")\n",
    "test = pd.read_csv(\"./sentiment-analysis-test/data/test.csv\")"
   ]
  },
  {
   "cell_type": "code",
   "execution_count": 2,
   "metadata": {},
   "outputs": [
    {
     "data": {
      "text/plain": [
       "neutral       8823\n",
       "positive      8318\n",
       "negative      7858\n",
       "unassigned       1\n",
       "Name: sentiment, dtype: int64"
      ]
     },
     "execution_count": 2,
     "metadata": {},
     "output_type": "execute_result"
    }
   ],
   "source": [
    "# Class distribution in training set\n",
    "train['sentiment'].value_counts()"
   ]
  },
  {
   "cell_type": "code",
   "execution_count": 3,
   "metadata": {},
   "outputs": [
    {
     "name": "stdout",
     "output_type": "stream",
     "text": [
      "                content   sentiment\n",
      "5657  ويلييي شو بتصرع💙💙  unassigned\n"
     ]
    }
   ],
   "source": [
    "# drop row with unassigned label \n",
    "unassigned = train.loc[train['sentiment'] == \"unassigned\"]\n",
    "print(unassigned)\n",
    "train.drop(unassigned.index, inplace=True)"
   ]
  },
  {
   "cell_type": "code",
   "execution_count": 4,
   "metadata": {},
   "outputs": [
    {
     "data": {
      "text/html": [
       "<div>\n",
       "<style scoped>\n",
       "    .dataframe tbody tr th:only-of-type {\n",
       "        vertical-align: middle;\n",
       "    }\n",
       "\n",
       "    .dataframe tbody tr th {\n",
       "        vertical-align: top;\n",
       "    }\n",
       "\n",
       "    .dataframe thead th {\n",
       "        text-align: right;\n",
       "    }\n",
       "</style>\n",
       "<table border=\"1\" class=\"dataframe\">\n",
       "  <thead>\n",
       "    <tr style=\"text-align: right;\">\n",
       "      <th></th>\n",
       "      <th>content</th>\n",
       "      <th>sentiment</th>\n",
       "    </tr>\n",
       "  </thead>\n",
       "  <tbody>\n",
       "    <tr>\n",
       "      <th>18438</th>\n",
       "      <td>Johnson benadrukt weer dat VK op 31 oktober EU...</td>\n",
       "      <td>neutral</td>\n",
       "    </tr>\n",
       "    <tr>\n",
       "      <th>6707</th>\n",
       "      <td>22 минуты назад</td>\n",
       "      <td>neutral</td>\n",
       "    </tr>\n",
       "    <tr>\n",
       "      <th>10222</th>\n",
       "      <td>Basarnas perkuat sinergitas dengan potensi SAR...</td>\n",
       "      <td>neutral</td>\n",
       "    </tr>\n",
       "    <tr>\n",
       "      <th>19702</th>\n",
       "      <td>Burkina Faso’s long night of horror in killing...</td>\n",
       "      <td>neutral</td>\n",
       "    </tr>\n",
       "    <tr>\n",
       "      <th>10238</th>\n",
       "      <td>L'UDC Jura présente une liste au Conseil des E...</td>\n",
       "      <td>neutral</td>\n",
       "    </tr>\n",
       "  </tbody>\n",
       "</table>\n",
       "</div>"
      ],
      "text/plain": [
       "                                                 content sentiment\n",
       "18438  Johnson benadrukt weer dat VK op 31 oktober EU...   neutral\n",
       "6707                                     22 минуты назад   neutral\n",
       "10222  Basarnas perkuat sinergitas dengan potensi SAR...   neutral\n",
       "19702  Burkina Faso’s long night of horror in killing...   neutral\n",
       "10238  L'UDC Jura présente une liste au Conseil des E...   neutral"
      ]
     },
     "execution_count": 4,
     "metadata": {},
     "output_type": "execute_result"
    }
   ],
   "source": [
    "train.loc[train['sentiment'] == \"neutral\"].sample(5)"
   ]
  },
  {
   "cell_type": "code",
   "execution_count": 5,
   "metadata": {},
   "outputs": [
    {
     "data": {
      "text/html": [
       "<div>\n",
       "<style scoped>\n",
       "    .dataframe tbody tr th:only-of-type {\n",
       "        vertical-align: middle;\n",
       "    }\n",
       "\n",
       "    .dataframe tbody tr th {\n",
       "        vertical-align: top;\n",
       "    }\n",
       "\n",
       "    .dataframe thead th {\n",
       "        text-align: right;\n",
       "    }\n",
       "</style>\n",
       "<table border=\"1\" class=\"dataframe\">\n",
       "  <thead>\n",
       "    <tr style=\"text-align: right;\">\n",
       "      <th></th>\n",
       "      <th>content</th>\n",
       "      <th>sentiment</th>\n",
       "    </tr>\n",
       "  </thead>\n",
       "  <tbody>\n",
       "    <tr>\n",
       "      <th>959</th>\n",
       "      <td>大家早上好</td>\n",
       "      <td>positive</td>\n",
       "    </tr>\n",
       "    <tr>\n",
       "      <th>19290</th>\n",
       "      <td>Obal vypadá pěkně a drží.</td>\n",
       "      <td>positive</td>\n",
       "    </tr>\n",
       "    <tr>\n",
       "      <th>22538</th>\n",
       "      <td>ห้องพักวิวสวยมากมองเห็นวิวทะเลจากห้องพัก ห้องส...</td>\n",
       "      <td>positive</td>\n",
       "    </tr>\n",
       "    <tr>\n",
       "      <th>9804</th>\n",
       "      <td>Geste solitaire merci Gp Renault maroc</td>\n",
       "      <td>positive</td>\n",
       "    </tr>\n",
       "    <tr>\n",
       "      <th>18998</th>\n",
       "      <td>A wonderfully written book that really brings ...</td>\n",
       "      <td>positive</td>\n",
       "    </tr>\n",
       "  </tbody>\n",
       "</table>\n",
       "</div>"
      ],
      "text/plain": [
       "                                                 content sentiment\n",
       "959                                                大家早上好  positive\n",
       "19290                          Obal vypadá pěkně a drží.  positive\n",
       "22538  ห้องพักวิวสวยมากมองเห็นวิวทะเลจากห้องพัก ห้องส...  positive\n",
       "9804              Geste solitaire merci Gp Renault maroc  positive\n",
       "18998  A wonderfully written book that really brings ...  positive"
      ]
     },
     "execution_count": 5,
     "metadata": {},
     "output_type": "execute_result"
    }
   ],
   "source": [
    "train.loc[train['sentiment'] == \"positive\"].sample(5)"
   ]
  },
  {
   "cell_type": "code",
   "execution_count": 6,
   "metadata": {},
   "outputs": [
    {
     "data": {
      "text/html": [
       "<div>\n",
       "<style scoped>\n",
       "    .dataframe tbody tr th:only-of-type {\n",
       "        vertical-align: middle;\n",
       "    }\n",
       "\n",
       "    .dataframe tbody tr th {\n",
       "        vertical-align: top;\n",
       "    }\n",
       "\n",
       "    .dataframe thead th {\n",
       "        text-align: right;\n",
       "    }\n",
       "</style>\n",
       "<table border=\"1\" class=\"dataframe\">\n",
       "  <thead>\n",
       "    <tr style=\"text-align: right;\">\n",
       "      <th></th>\n",
       "      <th>content</th>\n",
       "      <th>sentiment</th>\n",
       "    </tr>\n",
       "  </thead>\n",
       "  <tbody>\n",
       "    <tr>\n",
       "      <th>14612</th>\n",
       "      <td>Что сказать за качество + дисплей не показывае...</td>\n",
       "      <td>negative</td>\n",
       "    </tr>\n",
       "    <tr>\n",
       "      <th>24517</th>\n",
       "      <td>Rất mau khô lại, lúc đầu mở nắp ra thử lên tay...</td>\n",
       "      <td>negative</td>\n",
       "    </tr>\n",
       "    <tr>\n",
       "      <th>24061</th>\n",
       "      <td>Pas conforme à l'image couleur pas identique e...</td>\n",
       "      <td>negative</td>\n",
       "    </tr>\n",
       "    <tr>\n",
       "      <th>7805</th>\n",
       "      <td>Não serve para quem tem filhos acima de 13 ano...</td>\n",
       "      <td>negative</td>\n",
       "    </tr>\n",
       "    <tr>\n",
       "      <th>6306</th>\n",
       "      <td>フリード乗り換えました。CROSSTARのガソリン車です。 [エクステリア] 外観カッコイイ...</td>\n",
       "      <td>negative</td>\n",
       "    </tr>\n",
       "  </tbody>\n",
       "</table>\n",
       "</div>"
      ],
      "text/plain": [
       "                                                 content sentiment\n",
       "14612  Что сказать за качество + дисплей не показывае...  negative\n",
       "24517  Rất mau khô lại, lúc đầu mở nắp ra thử lên tay...  negative\n",
       "24061  Pas conforme à l'image couleur pas identique e...  negative\n",
       "7805   Não serve para quem tem filhos acima de 13 ano...  negative\n",
       "6306   フリード乗り換えました。CROSSTARのガソリン車です。 [エクステリア] 外観カッコイイ...  negative"
      ]
     },
     "execution_count": 6,
     "metadata": {},
     "output_type": "execute_result"
    }
   ],
   "source": [
    "train.loc[train['sentiment'] == \"negative\"].sample(5)"
   ]
  },
  {
   "cell_type": "code",
   "execution_count": 7,
   "metadata": {},
   "outputs": [],
   "source": [
    "sentiment2id = {\"negative\": 0, \"neutral\": 1, \"positive\": 2} # Following the ids of the model i'm using\n",
    "# Average length of sentences\n",
    "train['num_words'] = train['content'].apply(lambda x: len(x.split()))\n",
    "test['num_words'] = test['content'].apply(lambda x: len(x.split()))"
   ]
  },
  {
   "cell_type": "code",
   "execution_count": 8,
   "metadata": {},
   "outputs": [
    {
     "data": {
      "text/html": [
       "<div>\n",
       "<style scoped>\n",
       "    .dataframe tbody tr th:only-of-type {\n",
       "        vertical-align: middle;\n",
       "    }\n",
       "\n",
       "    .dataframe tbody tr th {\n",
       "        vertical-align: top;\n",
       "    }\n",
       "\n",
       "    .dataframe thead th {\n",
       "        text-align: right;\n",
       "    }\n",
       "</style>\n",
       "<table border=\"1\" class=\"dataframe\">\n",
       "  <thead>\n",
       "    <tr style=\"text-align: right;\">\n",
       "      <th></th>\n",
       "      <th>num_words</th>\n",
       "    </tr>\n",
       "  </thead>\n",
       "  <tbody>\n",
       "    <tr>\n",
       "      <th>count</th>\n",
       "      <td>24999.000000</td>\n",
       "    </tr>\n",
       "    <tr>\n",
       "      <th>mean</th>\n",
       "      <td>18.658666</td>\n",
       "    </tr>\n",
       "    <tr>\n",
       "      <th>std</th>\n",
       "      <td>45.455195</td>\n",
       "    </tr>\n",
       "    <tr>\n",
       "      <th>min</th>\n",
       "      <td>1.000000</td>\n",
       "    </tr>\n",
       "    <tr>\n",
       "      <th>25%</th>\n",
       "      <td>5.000000</td>\n",
       "    </tr>\n",
       "    <tr>\n",
       "      <th>50%</th>\n",
       "      <td>10.000000</td>\n",
       "    </tr>\n",
       "    <tr>\n",
       "      <th>75%</th>\n",
       "      <td>18.000000</td>\n",
       "    </tr>\n",
       "    <tr>\n",
       "      <th>max</th>\n",
       "      <td>2994.000000</td>\n",
       "    </tr>\n",
       "  </tbody>\n",
       "</table>\n",
       "</div>"
      ],
      "text/plain": [
       "          num_words\n",
       "count  24999.000000\n",
       "mean      18.658666\n",
       "std       45.455195\n",
       "min        1.000000\n",
       "25%        5.000000\n",
       "50%       10.000000\n",
       "75%       18.000000\n",
       "max     2994.000000"
      ]
     },
     "execution_count": 8,
     "metadata": {},
     "output_type": "execute_result"
    }
   ],
   "source": [
    "train.describe()"
   ]
  },
  {
   "cell_type": "code",
   "execution_count": 9,
   "metadata": {},
   "outputs": [
    {
     "data": {
      "text/html": [
       "<div>\n",
       "<style scoped>\n",
       "    .dataframe tbody tr th:only-of-type {\n",
       "        vertical-align: middle;\n",
       "    }\n",
       "\n",
       "    .dataframe tbody tr th {\n",
       "        vertical-align: top;\n",
       "    }\n",
       "\n",
       "    .dataframe thead th {\n",
       "        text-align: right;\n",
       "    }\n",
       "</style>\n",
       "<table border=\"1\" class=\"dataframe\">\n",
       "  <thead>\n",
       "    <tr style=\"text-align: right;\">\n",
       "      <th></th>\n",
       "      <th>num_words</th>\n",
       "    </tr>\n",
       "  </thead>\n",
       "  <tbody>\n",
       "    <tr>\n",
       "      <th>count</th>\n",
       "      <td>2500.00000</td>\n",
       "    </tr>\n",
       "    <tr>\n",
       "      <th>mean</th>\n",
       "      <td>18.12080</td>\n",
       "    </tr>\n",
       "    <tr>\n",
       "      <th>std</th>\n",
       "      <td>33.95469</td>\n",
       "    </tr>\n",
       "    <tr>\n",
       "      <th>min</th>\n",
       "      <td>1.00000</td>\n",
       "    </tr>\n",
       "    <tr>\n",
       "      <th>25%</th>\n",
       "      <td>5.00000</td>\n",
       "    </tr>\n",
       "    <tr>\n",
       "      <th>50%</th>\n",
       "      <td>9.00000</td>\n",
       "    </tr>\n",
       "    <tr>\n",
       "      <th>75%</th>\n",
       "      <td>17.00000</td>\n",
       "    </tr>\n",
       "    <tr>\n",
       "      <th>max</th>\n",
       "      <td>674.00000</td>\n",
       "    </tr>\n",
       "  </tbody>\n",
       "</table>\n",
       "</div>"
      ],
      "text/plain": [
       "        num_words\n",
       "count  2500.00000\n",
       "mean     18.12080\n",
       "std      33.95469\n",
       "min       1.00000\n",
       "25%       5.00000\n",
       "50%       9.00000\n",
       "75%      17.00000\n",
       "max     674.00000"
      ]
     },
     "execution_count": 9,
     "metadata": {},
     "output_type": "execute_result"
    }
   ],
   "source": [
    "test.describe()"
   ]
  },
  {
   "cell_type": "markdown",
   "metadata": {},
   "source": [
    "We can see that the training dataset is balanced with respect to the sentiment classes. The sentences in both train and test have a mean of 18 words. (Biased because just splitting doesn't work for some langages like korean for example).\n",
    "\n",
    "Next, we want to inspect the different languages we have on the train and test sets."
   ]
  },
  {
   "cell_type": "code",
   "execution_count": 11,
   "metadata": {},
   "outputs": [],
   "source": [
    "from langdetect import detect, LangDetectException\n",
    "def detect_language(s):\n",
    "    try:\n",
    "        return detect(s)\n",
    "    except LangDetectException:\n",
    "        return \"unknown\"\n",
    "train['lang'] = train['content'].apply(lambda x: detect_language(x))\n",
    "test['lang'] = test['content'].apply(lambda x: detect_language(x))"
   ]
  },
  {
   "cell_type": "code",
   "execution_count": 12,
   "metadata": {
    "collapsed": true,
    "jupyter": {
     "outputs_hidden": true
    },
    "tags": []
   },
   "outputs": [
    {
     "data": {
      "text/plain": [
       "en         4048\n",
       "ru         3265\n",
       "id         3196\n",
       "ar         1801\n",
       "fr         1498\n",
       "es         1323\n",
       "pt         1211\n",
       "ko         1076\n",
       "zh-cn       842\n",
       "ja          742\n",
       "it          587\n",
       "de          548\n",
       "th          460\n",
       "tr          297\n",
       "tl          258\n",
       "so          246\n",
       "vi          208\n",
       "pl          196\n",
       "et          183\n",
       "nl          178\n",
       "uk          156\n",
       "ro          156\n",
       "sv          153\n",
       "ca          144\n",
       "gu          143\n",
       "bg          134\n",
       "hi          131\n",
       "bn          130\n",
       "fi          113\n",
       "da          107\n",
       "fa          106\n",
       "zh-tw       101\n",
       "no           95\n",
       "cs           93\n",
       "ta           89\n",
       "af           86\n",
       "he           85\n",
       "mk           85\n",
       "sk           82\n",
       "ml           81\n",
       "hu           81\n",
       "lt           72\n",
       "ur           70\n",
       "el           58\n",
       "unknown      57\n",
       "hr           55\n",
       "cy           53\n",
       "sw           43\n",
       "sl           36\n",
       "lv           25\n",
       "sq            9\n",
       "kn            3\n",
       "mr            2\n",
       "te            2\n",
       "Name: lang, dtype: int64"
      ]
     },
     "execution_count": 12,
     "metadata": {},
     "output_type": "execute_result"
    }
   ],
   "source": [
    "train['lang'].value_counts()"
   ]
  },
  {
   "cell_type": "code",
   "execution_count": 13,
   "metadata": {
    "collapsed": true,
    "jupyter": {
     "outputs_hidden": true
    },
    "tags": []
   },
   "outputs": [
    {
     "data": {
      "text/plain": [
       "en         393\n",
       "id         313\n",
       "ru         291\n",
       "ar         181\n",
       "fr         157\n",
       "pt         135\n",
       "es         122\n",
       "ko         114\n",
       "zh-cn       89\n",
       "it          74\n",
       "ja          69\n",
       "de          62\n",
       "th          45\n",
       "tl          32\n",
       "tr          30\n",
       "nl          24\n",
       "pl          23\n",
       "vi          22\n",
       "et          18\n",
       "ro          18\n",
       "so          16\n",
       "fi          16\n",
       "sv          15\n",
       "hi          15\n",
       "uk          14\n",
       "bg          14\n",
       "ca          14\n",
       "af          12\n",
       "bn          12\n",
       "ml          12\n",
       "no          12\n",
       "zh-tw       11\n",
       "he          11\n",
       "hu          11\n",
       "fa          11\n",
       "lt          10\n",
       "cs          10\n",
       "da           9\n",
       "ta           8\n",
       "unknown      8\n",
       "ur           7\n",
       "gu           7\n",
       "el           6\n",
       "mk           6\n",
       "cy           5\n",
       "sw           5\n",
       "sk           5\n",
       "hr           2\n",
       "sl           2\n",
       "lv           1\n",
       "mr           1\n",
       "Name: lang, dtype: int64"
      ]
     },
     "execution_count": 13,
     "metadata": {},
     "output_type": "execute_result"
    }
   ],
   "source": [
    "test['lang'].value_counts()"
   ]
  },
  {
   "cell_type": "code",
   "execution_count": 17,
   "metadata": {},
   "outputs": [
    {
     "data": {
      "text/plain": [
       "54"
      ]
     },
     "execution_count": 17,
     "metadata": {},
     "output_type": "execute_result"
    }
   ],
   "source": [
    "len(set(train['lang'].tolist() + test['lang'].tolist()))"
   ]
  },
  {
   "cell_type": "markdown",
   "metadata": {},
   "source": [
    "The dataset is composed of 54 different languages with english, russian, indonesian, arabic, french, spanish, portugese and korean the most represented ones."
   ]
  },
  {
   "cell_type": "code",
   "execution_count": 42,
   "metadata": {},
   "outputs": [],
   "source": [
    "from sklearn.model_selection import train_test_split\n",
    "final_train = train[[\"content\", \"sentiment\"]]\n",
    "train_split, val = train_test_split(final_train, test_size=0.2, stratify=final_train['sentiment'])"
   ]
  },
  {
   "cell_type": "code",
   "execution_count": 44,
   "metadata": {},
   "outputs": [
    {
     "data": {
      "text/plain": [
       "neutral     7058\n",
       "positive    6654\n",
       "negative    6287\n",
       "Name: sentiment, dtype: int64"
      ]
     },
     "execution_count": 44,
     "metadata": {},
     "output_type": "execute_result"
    }
   ],
   "source": [
    "train_split['sentiment'].value_counts()"
   ]
  },
  {
   "cell_type": "code",
   "execution_count": 46,
   "metadata": {},
   "outputs": [
    {
     "data": {
      "text/plain": [
       "neutral     1765\n",
       "positive    1664\n",
       "negative    1571\n",
       "Name: sentiment, dtype: int64"
      ]
     },
     "execution_count": 46,
     "metadata": {},
     "output_type": "execute_result"
    }
   ],
   "source": [
    "val[\"sentiment\"].value_counts()"
   ]
  },
  {
   "cell_type": "code",
   "execution_count": 47,
   "metadata": {},
   "outputs": [],
   "source": [
    "train_split.to_csv(\"sentiment-analysis-test/data/train_clean.csv\", index=False)\n",
    "val.to_csv(\"sentiment-analysis-test/data/val_clean.csv\", index=False)"
   ]
  }
 ],
 "metadata": {
  "kernelspec": {
   "display_name": "Python 3 (ipykernel)",
   "language": "python",
   "name": "python3"
  },
  "language_info": {
   "codemirror_mode": {
    "name": "ipython",
    "version": 3
   },
   "file_extension": ".py",
   "mimetype": "text/x-python",
   "name": "python",
   "nbconvert_exporter": "python",
   "pygments_lexer": "ipython3",
   "version": "3.8.12"
  }
 },
 "nbformat": 4,
 "nbformat_minor": 4
}
